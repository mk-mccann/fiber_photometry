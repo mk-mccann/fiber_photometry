{
 "cells": [
  {
   "cell_type": "markdown",
   "metadata": {},
   "source": [
    "# Visualize fluorescence preprocessing pipeline for whole recordings\n",
    "\n",
    "This notebook is a step-by-step visualization of the preprocessing pipeline with output plots and explanations. The scripts `preprocess_data_SC.py` and `preprocess_data_DC.py` automate this workflow for all experiments."
   ]
  },
  {
   "cell_type": "code",
   "execution_count": 1,
   "metadata": {},
   "outputs": [],
   "source": [
    "%matplotlib notebook\n",
    "\n",
    "import numpy as np\n",
    "import matplotlib.pyplot as plt\n",
    "from scipy.signal import savgol_filter\n",
    "\n",
    "from ipywidgets import interact, interactive, fixed\n",
    "import ipywidgets as widgets\n",
    "\n",
    "import paths\n",
    "import functions_preprocessing as fpp\n",
    "import functions_io as f_io\n",
    "import functions_plotting as fp\n",
    "from functions_utils import find_zone_and_behavior_episodes, add_episode_data\n",
    "\n",
    "f_io.check_dir_exists(paths.figure_directory)"
   ]
  },
  {
   "cell_type": "markdown",
   "metadata": {},
   "source": [
    "## Load the data\n",
    "\n",
    "For convenience, load the already preprocesed data. This dataset contains the columns 'gcamp_raw' and 'auto_raw', which are the raw data"
   ]
  },
  {
   "cell_type": "code",
   "execution_count": 2,
   "metadata": {},
   "outputs": [
    {
     "ename": "FileNotFoundError",
     "evalue": "File J:\\Alja Podgornik\\FP_Alja\\preprocessed_data\\animal1_day3_preprocessed.h5 does not exist",
     "output_type": "error",
     "traceback": [
      "\u001b[1;31m---------------------------------------------------------------------------\u001b[0m",
      "\u001b[1;31mFileNotFoundError\u001b[0m                         Traceback (most recent call last)",
      "\u001b[1;32m<ipython-input-2-aee31a7f18a4>\u001b[0m in \u001b[0;36m<module>\u001b[1;34m\u001b[0m\n\u001b[0;32m      2\u001b[0m \u001b[0mday\u001b[0m \u001b[1;33m=\u001b[0m \u001b[1;36m3\u001b[0m\u001b[1;33m\u001b[0m\u001b[1;33m\u001b[0m\u001b[0m\n\u001b[0;32m      3\u001b[0m \u001b[1;33m\u001b[0m\u001b[0m\n\u001b[1;32m----> 4\u001b[1;33m \u001b[0mdata_df\u001b[0m \u001b[1;33m=\u001b[0m \u001b[0mf_io\u001b[0m\u001b[1;33m.\u001b[0m\u001b[0mload_preprocessed_data\u001b[0m\u001b[1;33m(\u001b[0m\u001b[0mmouse\u001b[0m\u001b[1;33m,\u001b[0m \u001b[0mday\u001b[0m\u001b[1;33m)\u001b[0m\u001b[1;33m\u001b[0m\u001b[1;33m\u001b[0m\u001b[0m\n\u001b[0m",
      "\u001b[1;32m~\\Documents\\Repos\\fiber_photometry\\functions_io.py\u001b[0m in \u001b[0;36mload_preprocessed_data\u001b[1;34m(animal, day, key, base_directory)\u001b[0m\n\u001b[0;32m     61\u001b[0m \u001b[1;33m\u001b[0m\u001b[0m\n\u001b[0;32m     62\u001b[0m     \u001b[0mfilename\u001b[0m \u001b[1;33m=\u001b[0m \u001b[1;34m'animal{}_day{}_preprocessed.h5'\u001b[0m\u001b[1;33m.\u001b[0m\u001b[0mformat\u001b[0m\u001b[1;33m(\u001b[0m\u001b[0manimal\u001b[0m\u001b[1;33m,\u001b[0m \u001b[0mday\u001b[0m\u001b[1;33m)\u001b[0m\u001b[1;33m\u001b[0m\u001b[1;33m\u001b[0m\u001b[0m\n\u001b[1;32m---> 63\u001b[1;33m     \u001b[0mpreproc_data\u001b[0m \u001b[1;33m=\u001b[0m \u001b[0mpd\u001b[0m\u001b[1;33m.\u001b[0m\u001b[0mread_hdf\u001b[0m\u001b[1;33m(\u001b[0m\u001b[0mos\u001b[0m\u001b[1;33m.\u001b[0m\u001b[0mpath\u001b[0m\u001b[1;33m.\u001b[0m\u001b[0mjoin\u001b[0m\u001b[1;33m(\u001b[0m\u001b[0mbase_directory\u001b[0m\u001b[1;33m,\u001b[0m \u001b[0mfilename\u001b[0m\u001b[1;33m)\u001b[0m\u001b[1;33m,\u001b[0m \u001b[0mkey\u001b[0m\u001b[1;33m=\u001b[0m\u001b[0mkey\u001b[0m\u001b[1;33m)\u001b[0m\u001b[1;33m\u001b[0m\u001b[1;33m\u001b[0m\u001b[0m\n\u001b[0m\u001b[0;32m     64\u001b[0m     \u001b[1;32mreturn\u001b[0m \u001b[0mpreproc_data\u001b[0m\u001b[1;33m\u001b[0m\u001b[1;33m\u001b[0m\u001b[0m\n\u001b[0;32m     65\u001b[0m \u001b[1;33m\u001b[0m\u001b[0m\n",
      "\u001b[1;32m~\\Anaconda3\\envs\\behaviour-switching\\lib\\site-packages\\pandas\\io\\pytables.py\u001b[0m in \u001b[0;36mread_hdf\u001b[1;34m(path_or_buf, key, mode, errors, where, start, stop, columns, iterator, chunksize, **kwargs)\u001b[0m\n\u001b[0;32m    393\u001b[0m \u001b[1;33m\u001b[0m\u001b[0m\n\u001b[0;32m    394\u001b[0m         \u001b[1;32mif\u001b[0m \u001b[1;32mnot\u001b[0m \u001b[0mexists\u001b[0m\u001b[1;33m:\u001b[0m\u001b[1;33m\u001b[0m\u001b[1;33m\u001b[0m\u001b[0m\n\u001b[1;32m--> 395\u001b[1;33m             \u001b[1;32mraise\u001b[0m \u001b[0mFileNotFoundError\u001b[0m\u001b[1;33m(\u001b[0m\u001b[1;34mf\"File {path_or_buf} does not exist\"\u001b[0m\u001b[1;33m)\u001b[0m\u001b[1;33m\u001b[0m\u001b[1;33m\u001b[0m\u001b[0m\n\u001b[0m\u001b[0;32m    396\u001b[0m \u001b[1;33m\u001b[0m\u001b[0m\n\u001b[0;32m    397\u001b[0m         \u001b[0mstore\u001b[0m \u001b[1;33m=\u001b[0m \u001b[0mHDFStore\u001b[0m\u001b[1;33m(\u001b[0m\u001b[0mpath_or_buf\u001b[0m\u001b[1;33m,\u001b[0m \u001b[0mmode\u001b[0m\u001b[1;33m=\u001b[0m\u001b[0mmode\u001b[0m\u001b[1;33m,\u001b[0m \u001b[0merrors\u001b[0m\u001b[1;33m=\u001b[0m\u001b[0merrors\u001b[0m\u001b[1;33m,\u001b[0m \u001b[1;33m**\u001b[0m\u001b[0mkwargs\u001b[0m\u001b[1;33m)\u001b[0m\u001b[1;33m\u001b[0m\u001b[1;33m\u001b[0m\u001b[0m\n",
      "\u001b[1;31mFileNotFoundError\u001b[0m: File J:\\Alja Podgornik\\FP_Alja\\preprocessed_data\\animal1_day3_preprocessed.h5 does not exist"
     ]
    }
   ],
   "source": [
    "mouse = 1\n",
    "day = 3\n",
    "\n",
    "data_df = f_io.load_preprocessed_data(mouse, day)"
   ]
  },
  {
   "cell_type": "markdown",
   "metadata": {},
   "source": [
    "## Visualize raw traces\n",
    "\n",
    "Here we notice some disconinuities and jumps in the data set. We need to figure out what to do with them to clean this up."
   ]
  },
  {
   "cell_type": "code",
   "execution_count": 96,
   "metadata": {},
   "outputs": [],
   "source": [
    "def plot_two_traces(time, trace1, trace2, **kwargs):    \n",
    "    fig, axes = plt.subplots(nrows=2, sharex=True, figsize=(9,6), **kwargs)\n",
    "    \n",
    "    axes[0] = fp.plot_fluorescence_min_sec(time, trace1, ax=axes[0])\n",
    "    axes[0].set_ylabel('Fluorescence (AU)')\n",
    "    \n",
    "    axes[1] = fp.plot_fluorescence_min_sec(time, trace2, ax=axes[1])\n",
    "    axes[1].set_ylabel('Fluorescence (AU)')\n",
    "    axes[1].set_xlabel('Time')\n",
    "    \n",
    "    return fig, axes"
   ]
  },
  {
   "cell_type": "code",
   "execution_count": 9,
   "metadata": {},
   "outputs": [
    {
     "data": {
      "application/vnd.jupyter.widget-view+json": {
       "model_id": "149cf76268374f3f979dccade960c439",
       "version_major": 2,
       "version_minor": 0
      },
      "text/plain": [
       "Canvas(toolbar=Toolbar(toolitems=[('Home', 'Reset original view', 'home', 'home'), ('Back', 'Back to previous …"
      ]
     },
     "metadata": {},
     "output_type": "display_data"
    }
   ],
   "source": [
    "fig, axes = plot_two_traces(data_df.time, data_df.gcamp_raw, data_df.auto_raw)\n",
    "axes[0].set_title('Raw GCaMP')\n",
    "axes[1].set_title('Raw Auto')\n",
    "plt.tight_layout()"
   ]
  },
  {
   "cell_type": "markdown",
   "metadata": {},
   "source": [
    "## Remove NaNs\n",
    "\n",
    "These traces have some NaNs in them. This affects later processing. The function `fpp.remove_nans` finds these values and removes them by interpolating."
   ]
  },
  {
   "cell_type": "code",
   "execution_count": 10,
   "metadata": {},
   "outputs": [],
   "source": [
    "gcamp = data_df.gcamp.to_numpy()\n",
    "gcamp = fpp.remove_nans(gcamp)\n",
    "\n",
    "auto = data_df.auto.to_numpy()\n",
    "auto = fpp.remove_nans(auto)"
   ]
  },
  {
   "cell_type": "code",
   "execution_count": 11,
   "metadata": {},
   "outputs": [
    {
     "data": {
      "application/vnd.jupyter.widget-view+json": {
       "model_id": "15967601ba23439c990864f39a7adba8",
       "version_major": 2,
       "version_minor": 0
      },
      "text/plain": [
       "Canvas(toolbar=Toolbar(toolitems=[('Home', 'Reset original view', 'home', 'home'), ('Back', 'Back to previous …"
      ]
     },
     "metadata": {},
     "output_type": "display_data"
    }
   ],
   "source": [
    "fig, axes = plot_two_traces(data_df.time, gcamp, auto)\n",
    "axes[0].set_title('NaN-Removed GCaMP')\n",
    "axes[1].set_title('NaN-Removed Auto')\n",
    "plt.tight_layout()"
   ]
  },
  {
   "cell_type": "markdown",
   "metadata": {},
   "source": [
    "# Find periods where the signal is lost\n",
    "\n",
    "Notice that sometimes the signal is lost, and a flat line is found in the data. We identify these sections by calculating the derivative of both channels. Where the derivative is zero, the signal is flat and presumably lost. Find where this occurs in both signals, and replace with np.NaN"
   ]
  },
  {
   "cell_type": "code",
   "execution_count": 12,
   "metadata": {},
   "outputs": [],
   "source": [
    "d_gcamp = np.r_[0, np.abs(np.diff(gcamp))]\n",
    "d_auto = np.r_[0, np.abs(np.diff(auto))]\n",
    "gcamp_d0 = np.where(d_gcamp == 0)[0]\n",
    "auto_d0 = np.where(d_auto == 0)[0]\n",
    "shared_zero = np.unique(np.concatenate((gcamp_d0, auto_d0)))"
   ]
  },
  {
   "cell_type": "code",
   "execution_count": 11,
   "metadata": {},
   "outputs": [
    {
     "data": {
      "text/plain": [
       "[<matplotlib.lines.Line2D at 0x7ffae7ff7810>]"
      ]
     },
     "execution_count": 11,
     "metadata": {},
     "output_type": "execute_result"
    }
   ],
   "source": [
    "# fig, axes = plt.subplots(nrows=2, ncols=2, sharex=True)\n",
    "# axes[0][0].plot(data_df.time, gcamp)\n",
    "# axes[1][0].plot(data_df.time, d_gcamp)\n",
    "# axes[0][1].plot(data_df.time, auto, c='orange')\n",
    "# axes[1][1].plot(data_df.time, d_auto, c='orange')"
   ]
  },
  {
   "cell_type": "code",
   "execution_count": 13,
   "metadata": {},
   "outputs": [
    {
     "data": {
      "text/plain": [
       "[<matplotlib.lines.Line2D at 0x7ffae772ff90>]"
      ]
     },
     "execution_count": 13,
     "metadata": {},
     "output_type": "execute_result"
    }
   ],
   "source": [
    "# fig, axes = plt.subplots(nrows=2, ncols=1, sharex=True)\n",
    "# axes[0].plot(data_df.time, gcamp)\n",
    "# axes[1].plot(data_df.time, auto, c='orange')"
   ]
  },
  {
   "cell_type": "markdown",
   "metadata": {},
   "source": [
    "# High pass filter to remove the decay\n",
    "\n",
    "Notice that there is a decay throughout the experiment. High pass filter (>0.1 Hz) to remove this."
   ]
  },
  {
   "cell_type": "code",
   "execution_count": 64,
   "metadata": {},
   "outputs": [],
   "source": [
    "import scipy.signal as sig\n",
    "fs = 40 \n",
    "\n",
    "\n",
    "def butter_highpass(cutoff, order, fs):\n",
    "    nyq = 0.5 * fs\n",
    "    high_cut = cutoff / nyq\n",
    "    b, a = sig.butter(order, high_cut, btype='highpass')\n",
    "    return b, a"
   ]
  },
  {
   "cell_type": "code",
   "execution_count": 77,
   "metadata": {},
   "outputs": [],
   "source": [
    "def plot_hpf(signal, cutoff, order, fs):\n",
    "    \n",
    "    b, a = butter_highpass(cutoff, order, fs)\n",
    "    signal_hpf = sig.filtfilt(b, a, signal)\n",
    "    \n",
    "    fig, axes = plot_two_traces(data_df.time, signal, signal_hpf, sharey=True)\n",
    "    axes[0].set_title('Original Signal')\n",
    "    axes[1].set_title('High-Pass Filtered Signal')\n",
    "    plt.tight_layout()\n",
    "    \n",
    "    return signal_hpf"
   ]
  },
  {
   "cell_type": "code",
   "execution_count": 80,
   "metadata": {},
   "outputs": [
    {
     "data": {
      "application/vnd.jupyter.widget-view+json": {
       "model_id": "ae2f958661d2486cbc0b99393cd638b1",
       "version_major": 2,
       "version_minor": 0
      },
      "text/plain": [
       "interactive(children=(FloatSlider(value=0.46, description='cutoff', max=1.0, min=0.01, step=0.05), IntSlider(v…"
      ]
     },
     "metadata": {},
     "output_type": "display_data"
    }
   ],
   "source": [
    "y=interactive(plot_hpf,\n",
    "              signal=fixed(gcamp), \n",
    "              cutoff=(0.01, 1.0, 0.05),\n",
    "              order=(1, 10, 1), \n",
    "              fs=fixed(fs))\n",
    "display(y)\n",
    "gcamp_hpf = y.result"
   ]
  },
  {
   "cell_type": "code",
   "execution_count": 109,
   "metadata": {},
   "outputs": [
    {
     "data": {
      "application/vnd.jupyter.widget-view+json": {
       "model_id": "7f2e9dd4c69f4b0aa898963f90eaddb1",
       "version_major": 2,
       "version_minor": 0
      },
      "text/plain": [
       "interactive(children=(FloatSlider(value=0.46, description='cutoff', max=1.0, min=0.01, step=0.05), IntSlider(v…"
      ]
     },
     "metadata": {},
     "output_type": "display_data"
    }
   ],
   "source": [
    "y=interactive(plot_hpf,\n",
    "              signal=fixed(auto), \n",
    "              cutoff=(0.01, 1.0, 0.05),\n",
    "              order=(1, 10, 1), \n",
    "              fs=fixed(fs))\n",
    "display(y)\n",
    "auto_hpf = y.result"
   ]
  },
  {
   "cell_type": "markdown",
   "metadata": {},
   "source": [
    "# Low pass filter to remove noise artifacts\n",
    "\n",
    "Notice that there is some jitter still in the plot. Low pass filter the data with a frequency that makes sense for the Ca2+ indicator. If GCaMP6s, this is ~10 Hz."
   ]
  },
  {
   "cell_type": "code",
   "execution_count": 70,
   "metadata": {},
   "outputs": [],
   "source": [
    "def butter_lowpass(cutoff, order, fs):\n",
    "    nyq = 0.5 * fs\n",
    "    low_cut = cutoff / nyq\n",
    "    b, a = sig.butter(order, low_cut, btype='lowpass')\n",
    "    return b, a"
   ]
  },
  {
   "cell_type": "code",
   "execution_count": 85,
   "metadata": {},
   "outputs": [],
   "source": [
    "def plot_lpf(signal, cutoff, order, fs):\n",
    "    \n",
    "    b, a = butter_lowpass(cutoff, order, fs)\n",
    "    signal_lpf = sig.filtfilt(b, a, signal)\n",
    "    \n",
    "    fig, axes = plot_two_traces(data_df.time, signal, signal_lpf, sharey=True)\n",
    "    axes[0].set_title('High-Pass Filtered  Signal')\n",
    "    axes[1].set_title('Low-Pass Filtered Signal')\n",
    "    plt.tight_layout()\n",
    "    \n",
    "    return signal_lpf"
   ]
  },
  {
   "cell_type": "code",
   "execution_count": 90,
   "metadata": {},
   "outputs": [
    {
     "data": {
      "application/vnd.jupyter.widget-view+json": {
       "model_id": "3f06f1220c1a417ab2fa5a86550a63b9",
       "version_major": 2,
       "version_minor": 0
      },
      "text/plain": [
       "interactive(children=(FloatSlider(value=14.5, description='cutoff', max=19.0, min=10.0, step=0.5), IntSlider(v…"
      ]
     },
     "metadata": {},
     "output_type": "display_data"
    }
   ],
   "source": [
    "y=interactive(plot_lpf,\n",
    "              signal=fixed(gcamp_hpf), \n",
    "              cutoff=(10, (fs/2)-1, 0.5),\n",
    "              order=(1, 10, 1), \n",
    "              fs=fixed(fs))\n",
    "display(y)\n",
    "gcamp_lpf = y.result"
   ]
  },
  {
   "cell_type": "code",
   "execution_count": 108,
   "metadata": {},
   "outputs": [
    {
     "ename": "NameError",
     "evalue": "name 'auto_hpf' is not defined",
     "output_type": "error",
     "traceback": [
      "\u001b[0;31m---------------------------------------------------------------------------\u001b[0m",
      "\u001b[0;31mNameError\u001b[0m                                 Traceback (most recent call last)",
      "\u001b[0;32m<ipython-input-108-41e6c77bcdb8>\u001b[0m in \u001b[0;36m<module>\u001b[0;34m\u001b[0m\n\u001b[1;32m      1\u001b[0m y=interactive(plot_lpf,\n\u001b[0;32m----> 2\u001b[0;31m               \u001b[0msignal\u001b[0m\u001b[0;34m=\u001b[0m\u001b[0mfixed\u001b[0m\u001b[0;34m(\u001b[0m\u001b[0mauto_hpf\u001b[0m\u001b[0;34m)\u001b[0m\u001b[0;34m,\u001b[0m\u001b[0;34m\u001b[0m\u001b[0;34m\u001b[0m\u001b[0m\n\u001b[0m\u001b[1;32m      3\u001b[0m               \u001b[0mcutoff\u001b[0m\u001b[0;34m=\u001b[0m\u001b[0;34m(\u001b[0m\u001b[0;36m10\u001b[0m\u001b[0;34m,\u001b[0m \u001b[0;34m(\u001b[0m\u001b[0mfs\u001b[0m\u001b[0;34m/\u001b[0m\u001b[0;36m2\u001b[0m\u001b[0;34m)\u001b[0m\u001b[0;34m-\u001b[0m\u001b[0;36m1\u001b[0m\u001b[0;34m,\u001b[0m \u001b[0;36m0.5\u001b[0m\u001b[0;34m)\u001b[0m\u001b[0;34m,\u001b[0m\u001b[0;34m\u001b[0m\u001b[0;34m\u001b[0m\u001b[0m\n\u001b[1;32m      4\u001b[0m               \u001b[0morder\u001b[0m\u001b[0;34m=\u001b[0m\u001b[0;34m(\u001b[0m\u001b[0;36m1\u001b[0m\u001b[0;34m,\u001b[0m \u001b[0;36m10\u001b[0m\u001b[0;34m,\u001b[0m \u001b[0;36m1\u001b[0m\u001b[0;34m)\u001b[0m\u001b[0;34m,\u001b[0m\u001b[0;34m\u001b[0m\u001b[0;34m\u001b[0m\u001b[0m\n\u001b[1;32m      5\u001b[0m               fs=fixed(fs))\n",
      "\u001b[0;31mNameError\u001b[0m: name 'auto_hpf' is not defined"
     ]
    }
   ],
   "source": [
    "y=interactive(plot_lpf,\n",
    "              signal=fixed(auto_hpf), \n",
    "              cutoff=(10, (fs/2)-1, 0.5),\n",
    "              order=(1, 10, 1), \n",
    "              fs=fixed(fs))\n",
    "auto_lpf = y.result"
   ]
  },
  {
   "cell_type": "markdown",
   "metadata": {},
   "source": [
    "# Apply SavGol filter for smoothing"
   ]
  },
  {
   "cell_type": "code",
   "execution_count": 104,
   "metadata": {},
   "outputs": [],
   "source": [
    "def plot_savgol(signal, kernel=5, poly_order=2):\n",
    "    if poly_order > kernel:\n",
    "        poly_order = kernel-1\n",
    "        \n",
    "    signal_savgol = savgol_filter(signal, kernel, poly_order)\n",
    "\n",
    "    fig, axes = plot_two_traces(data_df.time, signal, signal_savgol, sharey=True)\n",
    "    axes[0].set_title('Filtered  Signal')\n",
    "    axes[1].set_title('Smoothed Signal')\n",
    "    plt.tight_layout()\n",
    "    \n",
    "    return signal_savgol"
   ]
  },
  {
   "cell_type": "code",
   "execution_count": 106,
   "metadata": {},
   "outputs": [
    {
     "data": {
      "application/vnd.jupyter.widget-view+json": {
       "model_id": "08bd42db1b014a5cac9e61bd7ea33815",
       "version_major": 2,
       "version_minor": 0
      },
      "text/plain": [
       "interactive(children=(IntSlider(value=5, description='kernel', max=39, min=3, step=2), IntSlider(value=2, desc…"
      ]
     },
     "metadata": {},
     "output_type": "display_data"
    }
   ],
   "source": [
    "y=interactive(plot_savgol,\n",
    "              signal=fixed(gcamp_lpf), \n",
    "              kernel=(3, 39, 2),\n",
    "              poly_order=(1, 5, 1))\n",
    "\n",
    "display(y)\n",
    "gcamp_smooth = y.result"
   ]
  },
  {
   "cell_type": "code",
   "execution_count": 107,
   "metadata": {},
   "outputs": [
    {
     "ename": "NameError",
     "evalue": "name 'auto_lpf' is not defined",
     "output_type": "error",
     "traceback": [
      "\u001b[0;31m---------------------------------------------------------------------------\u001b[0m",
      "\u001b[0;31mNameError\u001b[0m                                 Traceback (most recent call last)",
      "\u001b[0;32m<ipython-input-107-9d524b0ab865>\u001b[0m in \u001b[0;36m<module>\u001b[0;34m\u001b[0m\n\u001b[1;32m      1\u001b[0m y=interactive(plot_savgol,\n\u001b[0;32m----> 2\u001b[0;31m               \u001b[0msignal\u001b[0m\u001b[0;34m=\u001b[0m\u001b[0mfixed\u001b[0m\u001b[0;34m(\u001b[0m\u001b[0mauto_lpf\u001b[0m\u001b[0;34m)\u001b[0m\u001b[0;34m,\u001b[0m\u001b[0;34m\u001b[0m\u001b[0;34m\u001b[0m\u001b[0m\n\u001b[0m\u001b[1;32m      3\u001b[0m               \u001b[0mkernel\u001b[0m\u001b[0;34m=\u001b[0m\u001b[0;34m(\u001b[0m\u001b[0;36m3\u001b[0m\u001b[0;34m,\u001b[0m \u001b[0;36m39\u001b[0m\u001b[0;34m,\u001b[0m \u001b[0;36m2\u001b[0m\u001b[0;34m)\u001b[0m\u001b[0;34m,\u001b[0m\u001b[0;34m\u001b[0m\u001b[0;34m\u001b[0m\u001b[0m\n\u001b[1;32m      4\u001b[0m               poly_order=(1, 5, 1))\n\u001b[1;32m      5\u001b[0m \u001b[0;34m\u001b[0m\u001b[0m\n",
      "\u001b[0;31mNameError\u001b[0m: name 'auto_lpf' is not defined"
     ]
    }
   ],
   "source": [
    "y=interactive(plot_savgol,\n",
    "              signal=fixed(auto_lpf), \n",
    "              kernel=(3, 39, 2),\n",
    "              poly_order=(1, 5, 1))\n",
    "\n",
    "display(y)\n",
    "auto_smooth = y.result"
   ]
  },
  {
   "cell_type": "markdown",
   "metadata": {},
   "source": [
    "# Remove periods where signal is lost\n",
    "\n",
    "This has to be applied after filtering, because the filters can't handle NaNs"
   ]
  },
  {
   "cell_type": "code",
   "execution_count": 33,
   "metadata": {},
   "outputs": [],
   "source": [
    "gcamp_smooth[shared_zero] = np.NaN\n",
    "auto_smooth[shared_zero] = np.NaN"
   ]
  },
  {
   "cell_type": "code",
   "execution_count": 35,
   "metadata": {},
   "outputs": [
    {
     "data": {
      "text/plain": [
       "[<matplotlib.lines.Line2D at 0x7ffae46b1710>]"
      ]
     },
     "execution_count": 35,
     "metadata": {},
     "output_type": "execute_result"
    }
   ],
   "source": [
    "fig, axes = plt.subplots(nrows=2, ncols=1, sharex=True)\n",
    "axes[0].plot(data_df.time, gcamp_lps)\n",
    "axes[1].plot(data_df.time, auto_lps, c='orange')"
   ]
  }
 ],
 "metadata": {
  "kernelspec": {
   "display_name": "Python 3",
   "language": "python",
   "name": "python3"
  },
  "language_info": {
   "codemirror_mode": {
    "name": "ipython",
    "version": 3
   },
   "file_extension": ".py",
   "mimetype": "text/x-python",
   "name": "python",
   "nbconvert_exporter": "python",
   "pygments_lexer": "ipython3",
   "version": "3.8.3"
  },
  "varInspector": {
   "cols": {
    "lenName": 16,
    "lenType": 16,
    "lenVar": 40
   },
   "kernels_config": {
    "python": {
     "delete_cmd_postfix": "",
     "delete_cmd_prefix": "del ",
     "library": "var_list.py",
     "varRefreshCmd": "print(var_dic_list())"
    },
    "r": {
     "delete_cmd_postfix": ") ",
     "delete_cmd_prefix": "rm(",
     "library": "var_list.r",
     "varRefreshCmd": "cat(var_dic_list()) "
    }
   },
   "types_to_exclude": [
    "module",
    "function",
    "builtin_function_or_method",
    "instance",
    "_Feature"
   ],
   "window_display": false
  }
 },
 "nbformat": 4,
 "nbformat_minor": 5
}
