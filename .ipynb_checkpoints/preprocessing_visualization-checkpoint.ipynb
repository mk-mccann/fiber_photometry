{
 "cells": [
  {
   "cell_type": "markdown",
   "id": "86c305fa",
   "metadata": {},
   "source": [
    "# Visualize fluorescence preprocessing pipeline for whole recordings\n",
    "\n",
    "This notebook is a step-by-step visualization of the preprocessing pipeline with output plots and explanations. The scripts `preprocess_data_SC.py` and `preprocess_data_DC.py` automate this workflow for all experiments."
   ]
  },
  {
   "cell_type": "code",
   "execution_count": 1,
   "id": "3cb4d76e",
   "metadata": {},
   "outputs": [],
   "source": [
    "%matplotlib notebook\n",
    "\n",
    "import numpy as np\n",
    "import matplotlib.pyplot as plt\n",
    "from pathlib import Path\n",
    "from scipy.signal import savgol_filter\n",
    "\n",
    "from ipywidgets import interact, interactive, fixed\n",
    "import ipywidgets as widgets\n",
    "\n",
    "import paths\n",
    "import functions_preprocessing as fpp\n",
    "import functions_io as f_io\n",
    "import functions_plotting as fp\n",
    "from functions_utils import find_zone_and_behavior_episodes, add_episode_data\n",
    "\n",
    "f_io.check_dir_exists(paths.figure_directory)"
   ]
  },
  {
   "cell_type": "markdown",
   "id": "9f9f4501",
   "metadata": {},
   "source": [
    "## Load the data\n",
    "\n",
    "For convenience, load the already preprocesed data. This dataset contains the columns 'gcamp_raw' and 'auto_raw', which are the raw data"
   ]
  },
  {
   "cell_type": "code",
   "execution_count": 2,
   "id": "7c7ab428",
   "metadata": {},
   "outputs": [],
   "source": [
    "mouse = 1\n",
    "day = 2\n",
    "\n",
    "data_df = f_io.load_preprocessed_data(mouse, day)"
   ]
  },
  {
   "cell_type": "code",
   "execution_count": 3,
   "id": "cffdeddb",
   "metadata": {},
   "outputs": [],
   "source": [
    "files = Path(paths.csv_directory).glob('*.csv')\n",
    "file_shorthand = [('Day {} Animal {}'.format(p.stem.split('_')[0][-1], p.stem.split('_')[-1][0:]), p) for p in files]\n",
    "file_shorthand = sorted(file_shorthand, key=lambda fs: fs[0])"
   ]
  },
  {
   "cell_type": "markdown",
   "id": "cbe6b922",
   "metadata": {},
   "source": [
    "## Visualize raw traces\n",
    "\n",
    "Here we notice some disconinuities and jumps in the data set. We need to figure out what to do with them to clean this up."
   ]
  },
  {
   "cell_type": "code",
   "execution_count": 4,
   "id": "7dbbe77a",
   "metadata": {},
   "outputs": [],
   "source": [
    "def plot_two_traces(time, trace1, trace2, **kwargs):    \n",
    "    fig, axes = plt.subplots(nrows=2, sharex=True, figsize=(9,6), **kwargs)\n",
    "    \n",
    "    axes[0] = fp.plot_fluorescence_min_sec(time, trace1, ax=axes[0])\n",
    "    axes[0].set_ylabel('Fluorescence (AU)')\n",
    "    \n",
    "    axes[1] = fp.plot_fluorescence_min_sec(time, trace2, ax=axes[1])\n",
    "    axes[1].set_ylabel('Fluorescence (AU)')\n",
    "    axes[1].set_xlabel('Time')\n",
    "    \n",
    "    return fig, axes"
   ]
  },
  {
   "cell_type": "code",
   "execution_count": 5,
   "id": "241d0327",
   "metadata": {},
   "outputs": [],
   "source": [
    "def plot_sc_experiment(file):\n",
    "    \n",
    "    data = f_io.read_1_channel_fiber_photometry_csv(file.resolve())\n",
    "    \n",
    "    fig, (ax1, ax2) = plot_two_traces(data['time'], data['gcamp'], data['auto'])\n",
    "    \n",
    "    ax1.set_title('Raw GCaMP')\n",
    "    ax2.set_title('Raw Auto')\n",
    "    \n",
    "    plt.tight_layout()\n",
    "    return data"
   ]
  },
  {
   "cell_type": "code",
   "execution_count": 6,
   "id": "958583e7",
   "metadata": {
    "scrolled": true
   },
   "outputs": [
    {
     "data": {
      "application/vnd.jupyter.widget-view+json": {
       "model_id": "bdbeb8f5d54142899fb53714cc969083",
       "version_major": 2,
       "version_minor": 0
      },
      "text/plain": [
       "interactive(children=(Dropdown(description='Experiment:', options=(('Day 1 Animal 1', PosixPath('data/Multimaz…"
      ]
     },
     "metadata": {},
     "output_type": "display_data"
    }
   ],
   "source": [
    "y = interactive(plot_sc_experiment, file=widgets.Dropdown(options=file_shorthand, description='Experiment:'))\n",
    "display(y)\n",
    "data = y.result"
   ]
  },
  {
   "cell_type": "code",
   "execution_count": null,
   "id": "80c16ec8",
   "metadata": {},
   "outputs": [],
   "source": []
  },
  {
   "cell_type": "code",
   "execution_count": null,
   "id": "93087557",
   "metadata": {},
   "outputs": [],
   "source": []
  },
  {
   "cell_type": "markdown",
   "id": "6ffd6874",
   "metadata": {},
   "source": [
    "## Remove NaNs\n",
    "\n",
    "These traces have some NaNs in them. This affects later processing. The function `fpp.remove_nans` finds these values and removes them by interpolating."
   ]
  },
  {
   "cell_type": "code",
   "execution_count": null,
   "id": "b23b9bca",
   "metadata": {},
   "outputs": [],
   "source": [
    "gcamp = data_df.gcamp_raw.to_numpy()\n",
    "gcamp = fpp.remove_nans(gcamp)\n",
    "\n",
    "auto = data_df.auto_raw.to_numpy()\n",
    "auto = fpp.remove_nans(auto)"
   ]
  },
  {
   "cell_type": "code",
   "execution_count": null,
   "id": "e59aa6eb",
   "metadata": {},
   "outputs": [],
   "source": [
    "fig, axes = plot_two_traces(data_df.time, gcamp, auto)\n",
    "axes[0].set_title('NaN-Removed GCaMP')\n",
    "axes[1].set_title('NaN-Removed Auto')\n",
    "plt.tight_layout()"
   ]
  },
  {
   "cell_type": "markdown",
   "id": "63da872b",
   "metadata": {},
   "source": [
    "# Find periods where the signal is lost\n",
    "\n",
    "Notice that sometimes the signal is lost, and a flat line is found in the data. We identify these sections by calculating the derivative of both channels. Where the derivative is zero, the signal is flat and presumably lost. Find where this occurs in both signals, and replace with np.NaN"
   ]
  },
  {
   "cell_type": "code",
   "execution_count": null,
   "id": "b886fadb",
   "metadata": {},
   "outputs": [],
   "source": [
    "d_gcamp = np.r_[0, np.abs(np.diff(gcamp))]\n",
    "d_auto = np.r_[0, np.abs(np.diff(auto))]\n",
    "gcamp_d0 = np.where(d_gcamp == 0)[0]\n",
    "auto_d0 = np.where(d_auto == 0)[0]\n",
    "shared_zero = np.unique(np.concatenate((gcamp_d0, auto_d0)))"
   ]
  },
  {
   "cell_type": "code",
   "execution_count": null,
   "id": "5bda07d2",
   "metadata": {},
   "outputs": [],
   "source": [
    "# fig, axes = plt.subplots(nrows=2, ncols=2, sharex=True)\n",
    "# axes[0][0].plot(data_df.time, gcamp)\n",
    "# axes[1][0].plot(data_df.time, d_gcamp)\n",
    "# axes[0][1].plot(data_df.time, auto, c='orange')\n",
    "# axes[1][1].plot(data_df.time, d_auto, c='orange')"
   ]
  },
  {
   "cell_type": "code",
   "execution_count": null,
   "id": "97909a0f",
   "metadata": {},
   "outputs": [],
   "source": [
    "# fig, axes = plt.subplots(nrows=2, ncols=1, sharex=True)\n",
    "# axes[0].plot(data_df.time, gcamp)\n",
    "# axes[1].plot(data_df.time, auto, c='orange')"
   ]
  },
  {
   "cell_type": "markdown",
   "id": "6b257ea0",
   "metadata": {},
   "source": [
    "# High pass filter to remove the decay\n",
    "\n",
    "Notice that there is a decay throughout the experiment. High pass filter (>0.1 Hz) to remove this."
   ]
  },
  {
   "cell_type": "code",
   "execution_count": null,
   "id": "c060f17e",
   "metadata": {},
   "outputs": [],
   "source": [
    "import scipy.signal as sig\n",
    "fs = 40 \n",
    "\n",
    "\n",
    "def butter_highpass(cutoff, order, fs):\n",
    "    nyq = 0.5 * fs\n",
    "    high_cut = cutoff / nyq\n",
    "    b, a = sig.butter(order, high_cut, btype='highpass')\n",
    "    return b, a"
   ]
  },
  {
   "cell_type": "code",
   "execution_count": null,
   "id": "5db9da76",
   "metadata": {},
   "outputs": [],
   "source": [
    "def plot_hpf(signal, cutoff, order, fs):\n",
    "    \n",
    "    b, a = butter_highpass(cutoff, order, fs)\n",
    "    signal_hpf = sig.filtfilt(b, a, signal)\n",
    "    \n",
    "    fig, axes = plot_two_traces(data_df.time, signal, signal_hpf, sharey=False)\n",
    "    axes[0].set_title('Original Signal')\n",
    "    axes[1].set_title('High-Pass Filtered Signal')\n",
    "    plt.tight_layout()\n",
    "    \n",
    "    return signal_hpf"
   ]
  },
  {
   "cell_type": "code",
   "execution_count": null,
   "id": "dfd52f04",
   "metadata": {},
   "outputs": [],
   "source": [
    "y=interactive(plot_hpf,\n",
    "              signal=fixed(gcamp), \n",
    "              cutoff=(0.01, 1.0, 0.05),\n",
    "              order=(1, 10, 1), \n",
    "              fs=fixed(fs))\n",
    "display(y)\n",
    "gcamp_hpf = y.result"
   ]
  },
  {
   "cell_type": "code",
   "execution_count": null,
   "id": "796fd755",
   "metadata": {},
   "outputs": [],
   "source": [
    "y=interactive(plot_hpf,\n",
    "              signal=fixed(auto), \n",
    "              cutoff=(0.01, 1.0, 0.05),\n",
    "              order=(1, 10, 1), \n",
    "              fs=fixed(fs))\n",
    "display(y)\n",
    "auto_hpf = y.result"
   ]
  },
  {
   "cell_type": "code",
   "execution_count": null,
   "id": "a6c7c1c3",
   "metadata": {},
   "outputs": [],
   "source": [
    "print(np.median(gcamp), np.std(gcamp))"
   ]
  },
  {
   "cell_type": "code",
   "execution_count": null,
   "id": "1c3e8a12",
   "metadata": {},
   "outputs": [],
   "source": [
    "gcamp_med = fpp.median_large_jumps(gcamp)\n",
    "fig, axes = plot_two_traces(data_df.time, gcamp, gcamp_med)\n",
    "axes[0].set_title('GCaMP')\n",
    "axes[1].set_title('Large-Jump-Removed GCaMP')\n",
    "plt.tight_layout()"
   ]
  },
  {
   "cell_type": "code",
   "execution_count": null,
   "id": "0ec601a4",
   "metadata": {},
   "outputs": [],
   "source": [
    "auto_med = fpp.median_large_jumps(auto, percentile=0.95)\n",
    "fig, axes = plot_two_traces(data_df.time, auto, auto_med)\n",
    "axes[0].set_title('Raw Autofluorescence')\n",
    "axes[1].set_title('Large-Jump-Removed Autofluorescence')\n",
    "plt.tight_layout()"
   ]
  },
  {
   "cell_type": "markdown",
   "id": "ee6f83e6",
   "metadata": {},
   "source": [
    "# Low pass filter to remove noise artifacts\n",
    "\n",
    "Notice that there is some jitter still in the plot. Low pass filter the data with a frequency that makes sense for the Ca2+ indicator. If GCaMP6s, this is ~10 Hz."
   ]
  },
  {
   "cell_type": "code",
   "execution_count": null,
   "id": "870021b3",
   "metadata": {},
   "outputs": [],
   "source": [
    "def butter_lowpass(cutoff, order, fs):\n",
    "    nyq = 0.5 * fs\n",
    "    low_cut = cutoff / nyq\n",
    "    b, a = sig.butter(order, low_cut, btype='lowpass')\n",
    "    return b, a"
   ]
  },
  {
   "cell_type": "code",
   "execution_count": null,
   "id": "6c7a1712",
   "metadata": {},
   "outputs": [],
   "source": [
    "def plot_lpf(signal, cutoff, order, fs):\n",
    "    \n",
    "    b, a = butter_lowpass(cutoff, order, fs)\n",
    "    signal_lpf = sig.filtfilt(b, a, signal)\n",
    "    \n",
    "    fig, axes = plot_two_traces(data_df.time, signal, signal_lpf, sharey=True)\n",
    "    axes[0].set_title('High-Pass Filtered  Signal')\n",
    "    axes[1].set_title('Low-Pass Filtered Signal')\n",
    "    plt.tight_layout()\n",
    "    \n",
    "    return signal_lpf"
   ]
  },
  {
   "cell_type": "code",
   "execution_count": null,
   "id": "b2383cd2",
   "metadata": {},
   "outputs": [],
   "source": [
    "y=interactive(plot_lpf,\n",
    "              signal=fixed(gcamp_hpf), \n",
    "              cutoff=(10, (fs/2)-1, 0.5),\n",
    "              order=(1, 10, 1), \n",
    "              fs=fixed(fs))\n",
    "display(y)\n",
    "gcamp_lpf = y.result"
   ]
  },
  {
   "cell_type": "code",
   "execution_count": null,
   "id": "6999cab5",
   "metadata": {
    "scrolled": true
   },
   "outputs": [],
   "source": [
    "y=interactive(plot_lpf,\n",
    "              signal=fixed(auto_hpf), \n",
    "              cutoff=(10, (fs/2)-1, 0.5),\n",
    "              order=(1, 10, 1), \n",
    "              fs=fixed(fs))\n",
    "auto_lpf = y.result"
   ]
  },
  {
   "cell_type": "markdown",
   "id": "4704f14a",
   "metadata": {},
   "source": [
    "# Apply SavGol filter for smoothing"
   ]
  },
  {
   "cell_type": "code",
   "execution_count": null,
   "id": "e3d128b3",
   "metadata": {},
   "outputs": [],
   "source": [
    "def plot_savgol(signal, kernel=5, poly_order=2):\n",
    "    if poly_order > kernel:\n",
    "        poly_order = kernel-1\n",
    "        \n",
    "    signal_savgol = savgol_filter(signal, kernel, poly_order)\n",
    "\n",
    "    fig, axes = plot_two_traces(data_df.time, signal, signal_savgol, sharey=True)\n",
    "    axes[0].set_title('Filtered  Signal')\n",
    "    axes[1].set_title('Smoothed Signal')\n",
    "    plt.tight_layout()\n",
    "    \n",
    "    return signal_savgol"
   ]
  },
  {
   "cell_type": "code",
   "execution_count": null,
   "id": "50255dff",
   "metadata": {},
   "outputs": [],
   "source": [
    "y=interactive(plot_savgol,\n",
    "              signal=fixed(gcamp_lpf), \n",
    "              kernel=(3, 39, 2),\n",
    "              poly_order=(1, 5, 1))\n",
    "\n",
    "display(y)\n",
    "gcamp_smooth = y.result"
   ]
  },
  {
   "cell_type": "code",
   "execution_count": null,
   "id": "0b080948",
   "metadata": {},
   "outputs": [],
   "source": [
    "y=interactive(plot_savgol,\n",
    "              signal=fixed(auto_lpf), \n",
    "              kernel=(3, 39, 2),\n",
    "              poly_order=(1, 5, 1))\n",
    "\n",
    "display(y)\n",
    "auto_smooth = y.result"
   ]
  },
  {
   "cell_type": "markdown",
   "id": "8a864fd5",
   "metadata": {},
   "source": [
    "# Remove periods where signal is lost\n",
    "\n",
    "This has to be applied after filtering, because the filters can't handle NaNs"
   ]
  },
  {
   "cell_type": "code",
   "execution_count": null,
   "id": "933ce6f7",
   "metadata": {},
   "outputs": [],
   "source": [
    "gcamp_smooth[shared_zero] = np.NaN\n",
    "auto_smooth[shared_zero] = np.NaN"
   ]
  },
  {
   "cell_type": "code",
   "execution_count": null,
   "id": "bde4675c",
   "metadata": {},
   "outputs": [],
   "source": [
    "fig, axes = plt.subplots(nrows=2, ncols=1, sharex=True)\n",
    "axes[0].plot(data_df.time, gcamp_lps)\n",
    "axes[1].plot(data_df.time, auto_lps, c='orange')"
   ]
  }
 ],
 "metadata": {
  "kernelspec": {
   "display_name": "Python 3",
   "language": "python",
   "name": "python3"
  },
  "language_info": {
   "codemirror_mode": {
    "name": "ipython",
    "version": 3
   },
   "file_extension": ".py",
   "mimetype": "text/x-python",
   "name": "python",
   "nbconvert_exporter": "python",
   "pygments_lexer": "ipython3",
   "version": "3.7.10"
  },
  "varInspector": {
   "cols": {
    "lenName": 16,
    "lenType": 16,
    "lenVar": 40
   },
   "kernels_config": {
    "python": {
     "delete_cmd_postfix": "",
     "delete_cmd_prefix": "del ",
     "library": "var_list.py",
     "varRefreshCmd": "print(var_dic_list())"
    },
    "r": {
     "delete_cmd_postfix": ") ",
     "delete_cmd_prefix": "rm(",
     "library": "var_list.r",
     "varRefreshCmd": "cat(var_dic_list()) "
    }
   },
   "types_to_exclude": [
    "module",
    "function",
    "builtin_function_or_method",
    "instance",
    "_Feature"
   ],
   "window_display": false
  }
 },
 "nbformat": 4,
 "nbformat_minor": 5
}
