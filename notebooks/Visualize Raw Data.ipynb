{
 "cells": [
  {
   "cell_type": "markdown",
   "id": "eda48538",
   "metadata": {},
   "source": [
    "# Visualize Raw Fiber Photometry Data\n",
    "\n",
    "This is a simple notebook that lets you visualize the raw data traces of a given experiment"
   ]
  },
  {
   "cell_type": "code",
   "execution_count": 1,
   "id": "b870b482",
   "metadata": {},
   "outputs": [],
   "source": [
    "%load_ext autoreload\n",
    "%autoreload 2\n",
    "%matplotlib notebook\n",
    "\n",
    "import numpy as np\n",
    "import matplotlib.pyplot as plt\n",
    "from pathlib import Path\n",
    "from ipywidgets import interact\n",
    "import ipywidgets as widgets\n",
    "\n",
    "import fp.io as f_io\n",
    "import fp.visualization as viz\n",
    "import paths"
   ]
  },
  {
   "cell_type": "markdown",
   "id": "f3558e10",
   "metadata": {},
   "source": [
    "## Visualize single channel recordings"
   ]
  },
  {
   "cell_type": "code",
   "execution_count": 2,
   "id": "2ccffcb4",
   "metadata": {},
   "outputs": [],
   "source": [
    "sc_files = Path(paths.csv_directory).glob('*.csv')\n",
    "sc_file_shorthand = [('Day {} Animal {}'.format(p.stem.split('_')[0][-1], p.stem.split('_')[-1][0:]), p) for p in sc_files]\n",
    "sc_file_shorthand = sorted(sc_file_shorthand, key=lambda fs: fs[0])"
   ]
  },
  {
   "cell_type": "code",
   "execution_count": 3,
   "id": "1a3c017f",
   "metadata": {},
   "outputs": [
    {
     "data": {
      "application/vnd.jupyter.widget-view+json": {
       "model_id": "1bd19d54cca04ad49d13264bde1b0764",
       "version_major": 2,
       "version_minor": 0
      },
      "text/plain": [
       "interactive(children=(Dropdown(description='Experiment:', options=(('Day 1 Animal 1', WindowsPath(\"J:/Alja Pod…"
      ]
     },
     "metadata": {},
     "output_type": "display_data"
    }
   ],
   "source": [
    "@interact(file=widgets.Dropdown(options=sc_file_shorthand, description='Experiment:'))\n",
    "def plot_sc_experiment(file):\n",
    "    \n",
    "    data = f_io.read_1_channel_fiber_photometry_csv(file.resolve())\n",
    "    \n",
    "    fig, (ax1, ax2) = plt.subplots(nrows=2, sharex=True, figsize=(9,5))\n",
    "    \n",
    "    ax1 = viz.plot_fluorescence_min_sec(data['time'], data['gcamp'], ax=ax1)\n",
    "    ax1.set_title('Raw GCaMP')\n",
    "    ax1.set_ylabel('Fluorescence (a.u.)')\n",
    "    \n",
    "    ax2 = viz.plot_fluorescence_min_sec(data['time'], data['auto'], ax=ax2)\n",
    "    ax2.set_title('Raw Auto')\n",
    "    ax2.set_ylabel('Fluorescence (a.u.)')\n",
    "    \n",
    "    plt.tight_layout()\n",
    "    \n",
    "    plt.show()"
   ]
  },
  {
   "cell_type": "markdown",
   "id": "d57cdb92",
   "metadata": {},
   "source": [
    "## Visualize two channel recordings"
   ]
  },
  {
   "cell_type": "code",
   "execution_count": 4,
   "id": "48969d0d",
   "metadata": {},
   "outputs": [],
   "source": [
    "dc_files = Path(paths.dual_recording_csv_directory).glob('*.csv')\n",
    "dc_file_shorthand = [('Animal {}'.format(p.stem.split('_')[-1]), p) for p in dc_files]\n",
    "dc_file_shorthand = sorted(dc_file_shorthand, key=lambda fs: fs[0])"
   ]
  },
  {
   "cell_type": "code",
   "execution_count": 5,
   "id": "ba4b1a97",
   "metadata": {},
   "outputs": [
    {
     "data": {
      "application/vnd.jupyter.widget-view+json": {
       "model_id": "75218bf901704a6f8d5d8c4091442418",
       "version_major": 2,
       "version_minor": 0
      },
      "text/plain": [
       "interactive(children=(Dropdown(description='Experiment:', options=(), value=None), Output()), _dom_classes=('w…"
      ]
     },
     "metadata": {},
     "output_type": "display_data"
    }
   ],
   "source": [
    "@interact(file=widgets.Dropdown(options=dc_file_shorthand, description='Experiment:'))\n",
    "def plot_dc_experiment(file):\n",
    "    \n",
    "    data = f_io.read_2_channel_fiber_photometry_csv(file.resolve())\n",
    "    \n",
    "    fig, axes = plt.subplots(nrows=2, ncols=2, sharex=True, figsize=(9,5))\n",
    "    \n",
    "    axes[0][0] = viz.plot_fluorescence_min_sec(data['time'], data['gcamp_anterior'], ax=axes[0][0])\n",
    "    axes[0][0].set_title('Raw GCaMP - Anterior')\n",
    "    axes[0][0].set_ylabel('Fluorescence (a.u.)')\n",
    "    \n",
    "    axes[1][0] = viz.plot_fluorescence_min_sec(data['time'], data['auto_anterior'], ax=axes[1][0])\n",
    "    axes[1][0].set_title('Raw Auto - Anterior')\n",
    "    axes[1][0].set_ylabel('Fluorescence (a.u.)')\n",
    "    \n",
    "    axes[0][1] = viz.plot_fluorescence_min_sec(data['time'], data['gcamp_posterior'], ax=axes[0][1])\n",
    "    axes[0][1].set_title('Raw GCaMP - Posterior')\n",
    "    axes[0][1].set_ylabel('Fluorescence (a.u.)')\n",
    "    \n",
    "    axes[1][1] = viz.plot_fluorescence_min_sec(data['time'], data['auto_posterior'], ax=axes[1][1])\n",
    "    axes[1][1].set_title('Raw Auto - Posterior')\n",
    "    axes[1][1].set_ylabel('Fluorescence (a.u.)')\n",
    "    \n",
    "    \n",
    "    plt.tight_layout()\n",
    "    \n",
    "    plt.show()"
   ]
  },
  {
   "cell_type": "code",
   "execution_count": null,
   "id": "781f22c0",
   "metadata": {},
   "outputs": [],
   "source": []
  }
 ],
 "metadata": {
  "kernelspec": {
   "display_name": "Python 3",
   "language": "python",
   "name": "python3"
  },
  "language_info": {
   "codemirror_mode": {
    "name": "ipython",
    "version": 3
   },
   "file_extension": ".py",
   "mimetype": "text/x-python",
   "name": "python",
   "nbconvert_exporter": "python",
   "pygments_lexer": "ipython3",
   "version": "3.8.12"
  }
 },
 "nbformat": 4,
 "nbformat_minor": 5
}
