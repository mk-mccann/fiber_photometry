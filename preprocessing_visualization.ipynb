{
 "cells": [
  {
   "cell_type": "markdown",
   "id": "e13bfa14",
   "metadata": {},
   "source": [
    "# Visualize fluorescence preprocessing pipeline for whole recordings\n",
    "\n",
    "This notebook is a step-by-step visualization of the preprocessing pipeline with output plots and explanations. The scripts `preprocess_data_SC.py` and `preprocess_data_DC.py` automate this workflow for all experiments."
   ]
  },
  {
   "cell_type": "code",
   "execution_count": 16,
   "id": "b2f1ed86",
   "metadata": {},
   "outputs": [],
   "source": [
    "%matplotlib widget\n",
    "\n",
    "import numpy as np\n",
    "import matplotlib.pyplot as plt\n",
    "from scipy.signal import savgol_filter\n",
    "\n",
    "from ipywidgets import interact, interactive, fixed\n",
    "import ipywidgets as widgets\n",
    "\n",
    "import paths\n",
    "import functions_preprocessing as fpp\n",
    "import functions_io as f_io\n",
    "import functions_plotting as fp\n",
    "from functions_utils import find_zone_and_behavior_episodes, add_episode_data\n",
    "\n",
    "f_io.check_dir_exists(paths.figure_directory)"
   ]
  },
  {
   "cell_type": "markdown",
   "id": "b9985b9b",
   "metadata": {},
   "source": [
    "## Load the data\n",
    "\n",
    "For convenience, load the already preprocesed data. This dataset contains the columns 'gcamp_raw' and 'auto_raw', which are the raw data"
   ]
  },
  {
   "cell_type": "code",
   "execution_count": 5,
   "id": "d2e547e4",
   "metadata": {},
   "outputs": [],
   "source": [
    "mouse = 1\n",
    "day = 3\n",
    "\n",
    "data_df = f_io.load_preprocessed_data(mouse, day)"
   ]
  },
  {
   "cell_type": "markdown",
   "id": "08c0cd64",
   "metadata": {},
   "source": [
    "## Visualize raw traces\n",
    "\n",
    "Here we notice some disconinuities and jumps in the data set. We need to figure out what to do with them to clean this up."
   ]
  },
  {
   "cell_type": "code",
   "execution_count": 96,
   "id": "9011bf96",
   "metadata": {},
   "outputs": [],
   "source": [
    "def plot_two_traces(time, trace1, trace2, **kwargs):    \n",
    "    fig, axes = plt.subplots(nrows=2, sharex=True, figsize=(9,6), **kwargs)\n",
    "    \n",
    "    axes[0] = fp.plot_fluorescence_min_sec(time, trace1, ax=axes[0])\n",
    "    axes[0].set_ylabel('Fluorescence (AU)')\n",
    "    \n",
    "    axes[1] = fp.plot_fluorescence_min_sec(time, trace2, ax=axes[1])\n",
    "    axes[1].set_ylabel('Fluorescence (AU)')\n",
    "    axes[1].set_xlabel('Time')\n",
    "    \n",
    "    return fig, axes"
   ]
  },
  {
   "cell_type": "code",
   "execution_count": 9,
   "id": "099baa8b",
   "metadata": {},
   "outputs": [
    {
     "data": {
      "application/vnd.jupyter.widget-view+json": {
       "model_id": "149cf76268374f3f979dccade960c439",
       "version_major": 2,
       "version_minor": 0
      },
      "text/plain": [
       "Canvas(toolbar=Toolbar(toolitems=[('Home', 'Reset original view', 'home', 'home'), ('Back', 'Back to previous …"
      ]
     },
     "metadata": {},
     "output_type": "display_data"
    }
   ],
   "source": [
    "fig, axes = plot_two_traces(data_df.time, data_df.gcamp_raw, data_df.auto_raw)\n",
    "axes[0].set_title('Raw GCaMP')\n",
    "axes[1].set_title('Raw Auto')\n",
    "plt.tight_layout()"
   ]
  },
  {
   "cell_type": "markdown",
   "id": "372e3a44",
   "metadata": {},
   "source": [
    "## Remove NaNs\n",
    "\n",
    "These traces have some NaNs in them. This affects later processing. The function `fpp.remove_nans` finds these values and removes them by interpolating."
   ]
  },
  {
   "cell_type": "code",
   "execution_count": 10,
   "id": "1148cdf1",
   "metadata": {},
   "outputs": [],
   "source": [
    "gcamp = data_df.gcamp.to_numpy()\n",
    "gcamp = fpp.remove_nans(gcamp)\n",
    "\n",
    "auto = data_df.auto.to_numpy()\n",
    "auto = fpp.remove_nans(auto)"
   ]
  },
  {
   "cell_type": "code",
   "execution_count": 11,
   "id": "e155ece1",
   "metadata": {},
   "outputs": [
    {
     "data": {
      "application/vnd.jupyter.widget-view+json": {
       "model_id": "15967601ba23439c990864f39a7adba8",
       "version_major": 2,
       "version_minor": 0
      },
      "text/plain": [
       "Canvas(toolbar=Toolbar(toolitems=[('Home', 'Reset original view', 'home', 'home'), ('Back', 'Back to previous …"
      ]
     },
     "metadata": {},
     "output_type": "display_data"
    }
   ],
   "source": [
    "fig, axes = plot_two_traces(data_df.time, gcamp, auto)\n",
    "axes[0].set_title('NaN-Removed GCaMP')\n",
    "axes[1].set_title('NaN-Removed Auto')\n",
    "plt.tight_layout()"
   ]
  },
  {
   "cell_type": "markdown",
   "id": "5e1c2763",
   "metadata": {},
   "source": [
    "# Find periods where the signal is lost\n",
    "\n",
    "Notice that sometimes the signal is lost, and a flat line is found in the data. We identify these sections by calculating the derivative of both channels. Where the derivative is zero, the signal is flat and presumably lost. Find where this occurs in both signals, and replace with np.NaN"
   ]
  },
  {
   "cell_type": "code",
   "execution_count": 12,
   "id": "fedb21e1",
   "metadata": {},
   "outputs": [],
   "source": [
    "d_gcamp = np.r_[0, np.abs(np.diff(gcamp))]\n",
    "d_auto = np.r_[0, np.abs(np.diff(auto))]\n",
    "gcamp_d0 = np.where(d_gcamp == 0)[0]\n",
    "auto_d0 = np.where(d_auto == 0)[0]\n",
    "shared_zero = np.unique(np.concatenate((gcamp_d0, auto_d0)))"
   ]
  },
  {
   "cell_type": "code",
   "execution_count": 11,
   "id": "f1e37a1f",
   "metadata": {},
   "outputs": [
    {
     "data": {
      "text/plain": [
       "[<matplotlib.lines.Line2D at 0x7ffae7ff7810>]"
      ]
     },
     "execution_count": 11,
     "metadata": {},
     "output_type": "execute_result"
    }
   ],
   "source": [
    "# fig, axes = plt.subplots(nrows=2, ncols=2, sharex=True)\n",
    "# axes[0][0].plot(data_df.time, gcamp)\n",
    "# axes[1][0].plot(data_df.time, d_gcamp)\n",
    "# axes[0][1].plot(data_df.time, auto, c='orange')\n",
    "# axes[1][1].plot(data_df.time, d_auto, c='orange')"
   ]
  },
  {
   "cell_type": "code",
   "execution_count": 13,
   "id": "35099e8a",
   "metadata": {},
   "outputs": [
    {
     "data": {
      "text/plain": [
       "[<matplotlib.lines.Line2D at 0x7ffae772ff90>]"
      ]
     },
     "execution_count": 13,
     "metadata": {},
     "output_type": "execute_result"
    }
   ],
   "source": [
    "# fig, axes = plt.subplots(nrows=2, ncols=1, sharex=True)\n",
    "# axes[0].plot(data_df.time, gcamp)\n",
    "# axes[1].plot(data_df.time, auto, c='orange')"
   ]
  },
  {
   "cell_type": "markdown",
   "id": "a142b9f2",
   "metadata": {},
   "source": [
    "# High pass filter to remove the decay\n",
    "\n",
    "Notice that there is a decay throughout the experiment. High pass filter (>0.1 Hz) to remove this."
   ]
  },
  {
   "cell_type": "code",
   "execution_count": 64,
   "id": "74c82a7f",
   "metadata": {},
   "outputs": [],
   "source": [
    "import scipy.signal as sig\n",
    "fs = 40 \n",
    "\n",
    "\n",
    "def butter_highpass(cutoff, order, fs):\n",
    "    nyq = 0.5 * fs\n",
    "    high_cut = cutoff / nyq\n",
    "    b, a = sig.butter(order, high_cut, btype='highpass')\n",
    "    return b, a"
   ]
  },
  {
   "cell_type": "code",
   "execution_count": 77,
   "id": "d9c44f7d",
   "metadata": {},
   "outputs": [],
   "source": [
    "def plot_hpf(signal, cutoff, order, fs):\n",
    "    \n",
    "    b, a = butter_highpass(cutoff, order, fs)\n",
    "    signal_hpf = sig.filtfilt(b, a, signal)\n",
    "    \n",
    "    fig, axes = plot_two_traces(data_df.time, signal, signal_hpf)\n",
    "    axes[0].set_title('Original Signal')\n",
    "    axes[1].set_title('High-Pass Filtered Signal')\n",
    "    plt.tight_layout()\n",
    "    \n",
    "    return signal_hpf"
   ]
  },
  {
   "cell_type": "code",
   "execution_count": 80,
   "id": "61bbf4ad",
   "metadata": {},
   "outputs": [
    {
     "data": {
      "application/vnd.jupyter.widget-view+json": {
       "model_id": "ae2f958661d2486cbc0b99393cd638b1",
       "version_major": 2,
       "version_minor": 0
      },
      "text/plain": [
       "interactive(children=(FloatSlider(value=0.46, description='cutoff', max=1.0, min=0.01, step=0.05), IntSlider(v…"
      ]
     },
     "metadata": {},
     "output_type": "display_data"
    }
   ],
   "source": [
    "y=interactive(plot_hpf,\n",
    "              signal=fixed(gcamp), \n",
    "              cutoff=(0.01, 1.0, 0.05),\n",
    "              order=(1, 10, 1), \n",
    "              fs=fixed(fs))\n",
    "display(y)\n",
    "gcamp_hpf = y.result"
   ]
  },
  {
   "cell_type": "code",
   "execution_count": 109,
   "id": "4b8fdafd",
   "metadata": {},
   "outputs": [
    {
     "data": {
      "application/vnd.jupyter.widget-view+json": {
       "model_id": "7f2e9dd4c69f4b0aa898963f90eaddb1",
       "version_major": 2,
       "version_minor": 0
      },
      "text/plain": [
       "interactive(children=(FloatSlider(value=0.46, description='cutoff', max=1.0, min=0.01, step=0.05), IntSlider(v…"
      ]
     },
     "metadata": {},
     "output_type": "display_data"
    }
   ],
   "source": [
    "y=interactive(plot_hpf,\n",
    "              signal=fixed(auto), \n",
    "              cutoff=(0.01, 1.0, 0.05),\n",
    "              order=(1, 10, 1), \n",
    "              fs=fixed(fs))\n",
    "display(y)\n",
    "auto_hpf = y.result"
   ]
  },
  {
   "cell_type": "markdown",
   "id": "b73dc7db",
   "metadata": {},
   "source": [
    "# Low pass filter to remove noise artifacts\n",
    "\n",
    "Notice that there is some jitter still in the plot. Low pass filter the data with a frequency that makes sense for the Ca2+ indicator. If GCaMP6s, this is ~10 Hz."
   ]
  },
  {
   "cell_type": "code",
   "execution_count": 70,
   "id": "423be774",
   "metadata": {},
   "outputs": [],
   "source": [
    "def butter_lowpass(cutoff, order, fs):\n",
    "    nyq = 0.5 * fs\n",
    "    low_cut = cutoff / nyq\n",
    "    b, a = sig.butter(order, low_cut, btype='lowpass')\n",
    "    return b, a"
   ]
  },
  {
   "cell_type": "code",
   "execution_count": 85,
   "id": "f192e43f",
   "metadata": {},
   "outputs": [],
   "source": [
    "def plot_lpf(signal, cutoff, order, fs):\n",
    "    \n",
    "    b, a = butter_lowpass(cutoff, order, fs)\n",
    "    signal_lpf = sig.filtfilt(b, a, signal)\n",
    "    \n",
    "    fig, axes = plot_two_traces(data_df.time, signal, signal_lpf)\n",
    "    axes[0].set_title('High-Pass Filtered  Signal')\n",
    "    axes[1].set_title('Low-Pass Filtered Signal')\n",
    "    plt.tight_layout()\n",
    "    \n",
    "    return signal_lpf"
   ]
  },
  {
   "cell_type": "code",
   "execution_count": 90,
   "id": "cad2a7c7",
   "metadata": {},
   "outputs": [
    {
     "data": {
      "application/vnd.jupyter.widget-view+json": {
       "model_id": "3f06f1220c1a417ab2fa5a86550a63b9",
       "version_major": 2,
       "version_minor": 0
      },
      "text/plain": [
       "interactive(children=(FloatSlider(value=14.5, description='cutoff', max=19.0, min=10.0, step=0.5), IntSlider(v…"
      ]
     },
     "metadata": {},
     "output_type": "display_data"
    }
   ],
   "source": [
    "y=interactive(plot_lpf,\n",
    "              signal=fixed(gcamp_hpf), \n",
    "              cutoff=(10, (fs/2)-1, 0.5),\n",
    "              order=(1, 10, 1), \n",
    "              fs=fixed(fs))\n",
    "display(y)\n",
    "gcamp_lpf = y.result"
   ]
  },
  {
   "cell_type": "code",
   "execution_count": 108,
   "id": "6f1fb9b7",
   "metadata": {},
   "outputs": [
    {
     "ename": "NameError",
     "evalue": "name 'auto_hpf' is not defined",
     "output_type": "error",
     "traceback": [
      "\u001b[0;31m---------------------------------------------------------------------------\u001b[0m",
      "\u001b[0;31mNameError\u001b[0m                                 Traceback (most recent call last)",
      "\u001b[0;32m<ipython-input-108-41e6c77bcdb8>\u001b[0m in \u001b[0;36m<module>\u001b[0;34m\u001b[0m\n\u001b[1;32m      1\u001b[0m y=interactive(plot_lpf,\n\u001b[0;32m----> 2\u001b[0;31m               \u001b[0msignal\u001b[0m\u001b[0;34m=\u001b[0m\u001b[0mfixed\u001b[0m\u001b[0;34m(\u001b[0m\u001b[0mauto_hpf\u001b[0m\u001b[0;34m)\u001b[0m\u001b[0;34m,\u001b[0m\u001b[0;34m\u001b[0m\u001b[0;34m\u001b[0m\u001b[0m\n\u001b[0m\u001b[1;32m      3\u001b[0m               \u001b[0mcutoff\u001b[0m\u001b[0;34m=\u001b[0m\u001b[0;34m(\u001b[0m\u001b[0;36m10\u001b[0m\u001b[0;34m,\u001b[0m \u001b[0;34m(\u001b[0m\u001b[0mfs\u001b[0m\u001b[0;34m/\u001b[0m\u001b[0;36m2\u001b[0m\u001b[0;34m)\u001b[0m\u001b[0;34m-\u001b[0m\u001b[0;36m1\u001b[0m\u001b[0;34m,\u001b[0m \u001b[0;36m0.5\u001b[0m\u001b[0;34m)\u001b[0m\u001b[0;34m,\u001b[0m\u001b[0;34m\u001b[0m\u001b[0;34m\u001b[0m\u001b[0m\n\u001b[1;32m      4\u001b[0m               \u001b[0morder\u001b[0m\u001b[0;34m=\u001b[0m\u001b[0;34m(\u001b[0m\u001b[0;36m1\u001b[0m\u001b[0;34m,\u001b[0m \u001b[0;36m10\u001b[0m\u001b[0;34m,\u001b[0m \u001b[0;36m1\u001b[0m\u001b[0;34m)\u001b[0m\u001b[0;34m,\u001b[0m\u001b[0;34m\u001b[0m\u001b[0;34m\u001b[0m\u001b[0m\n\u001b[1;32m      5\u001b[0m               fs=fixed(fs))\n",
      "\u001b[0;31mNameError\u001b[0m: name 'auto_hpf' is not defined"
     ]
    }
   ],
   "source": [
    "y=interactive(plot_lpf,\n",
    "              signal=fixed(auto_hpf), \n",
    "              cutoff=(10, (fs/2)-1, 0.5),\n",
    "              order=(1, 10, 1), \n",
    "              fs=fixed(fs))\n",
    "auto_lpf = y.result"
   ]
  },
  {
   "cell_type": "markdown",
   "id": "df92aa87",
   "metadata": {},
   "source": [
    "# Apply SavGol filter for smoothing"
   ]
  },
  {
   "cell_type": "code",
   "execution_count": 104,
   "id": "fad55848",
   "metadata": {},
   "outputs": [],
   "source": [
    "def plot_savgol(signal, kernel=5, poly_order=2):\n",
    "    if poly_order > kernel:\n",
    "        poly_order = kernel-1\n",
    "        \n",
    "    signal_savgol = savgol_filter(signal, kernel, poly_order)\n",
    "\n",
    "    fig, axes = plot_two_traces(data_df.time, signal, signal_savgol, sharey=True)\n",
    "    axes[0].set_title('Filtered  Signal')\n",
    "    axes[1].set_title('Smoothed Signal')\n",
    "    plt.tight_layout()\n",
    "    \n",
    "    return signal_savgol"
   ]
  },
  {
   "cell_type": "code",
   "execution_count": 106,
   "id": "cff09736",
   "metadata": {},
   "outputs": [
    {
     "data": {
      "application/vnd.jupyter.widget-view+json": {
       "model_id": "08bd42db1b014a5cac9e61bd7ea33815",
       "version_major": 2,
       "version_minor": 0
      },
      "text/plain": [
       "interactive(children=(IntSlider(value=5, description='kernel', max=39, min=3, step=2), IntSlider(value=2, desc…"
      ]
     },
     "metadata": {},
     "output_type": "display_data"
    }
   ],
   "source": [
    "y=interactive(plot_savgol,\n",
    "              signal=fixed(gcamp_lpf), \n",
    "              kernel=(3, 39, 2),\n",
    "              poly_order=(1, 5, 1))\n",
    "\n",
    "display(y)\n",
    "gcamp_smooth = y.result"
   ]
  },
  {
   "cell_type": "code",
   "execution_count": 107,
   "id": "ce736333",
   "metadata": {},
   "outputs": [
    {
     "ename": "NameError",
     "evalue": "name 'auto_lpf' is not defined",
     "output_type": "error",
     "traceback": [
      "\u001b[0;31m---------------------------------------------------------------------------\u001b[0m",
      "\u001b[0;31mNameError\u001b[0m                                 Traceback (most recent call last)",
      "\u001b[0;32m<ipython-input-107-9d524b0ab865>\u001b[0m in \u001b[0;36m<module>\u001b[0;34m\u001b[0m\n\u001b[1;32m      1\u001b[0m y=interactive(plot_savgol,\n\u001b[0;32m----> 2\u001b[0;31m               \u001b[0msignal\u001b[0m\u001b[0;34m=\u001b[0m\u001b[0mfixed\u001b[0m\u001b[0;34m(\u001b[0m\u001b[0mauto_lpf\u001b[0m\u001b[0;34m)\u001b[0m\u001b[0;34m,\u001b[0m\u001b[0;34m\u001b[0m\u001b[0;34m\u001b[0m\u001b[0m\n\u001b[0m\u001b[1;32m      3\u001b[0m               \u001b[0mkernel\u001b[0m\u001b[0;34m=\u001b[0m\u001b[0;34m(\u001b[0m\u001b[0;36m3\u001b[0m\u001b[0;34m,\u001b[0m \u001b[0;36m39\u001b[0m\u001b[0;34m,\u001b[0m \u001b[0;36m2\u001b[0m\u001b[0;34m)\u001b[0m\u001b[0;34m,\u001b[0m\u001b[0;34m\u001b[0m\u001b[0;34m\u001b[0m\u001b[0m\n\u001b[1;32m      4\u001b[0m               poly_order=(1, 5, 1))\n\u001b[1;32m      5\u001b[0m \u001b[0;34m\u001b[0m\u001b[0m\n",
      "\u001b[0;31mNameError\u001b[0m: name 'auto_lpf' is not defined"
     ]
    }
   ],
   "source": [
    "y=interactive(plot_savgol,\n",
    "              signal=fixed(auto_lpf), \n",
    "              kernel=(3, 39, 2),\n",
    "              poly_order=(1, 5, 1))\n",
    "\n",
    "display(y)\n",
    "auto_smooth = y.result"
   ]
  },
  {
   "cell_type": "markdown",
   "id": "06c202c3",
   "metadata": {},
   "source": [
    "# Remove periods where signal is lost\n",
    "\n",
    "This has to be applied after filtering, because the filters can't handle NaNs"
   ]
  },
  {
   "cell_type": "code",
   "execution_count": 33,
   "id": "bca7e508",
   "metadata": {},
   "outputs": [],
   "source": [
    "gcamp_smooth[shared_zero] = np.NaN\n",
    "auto_smooth[shared_zero] = np.NaN"
   ]
  },
  {
   "cell_type": "code",
   "execution_count": 35,
   "id": "b969f3d3",
   "metadata": {},
   "outputs": [
    {
     "data": {
      "text/plain": [
       "[<matplotlib.lines.Line2D at 0x7ffae46b1710>]"
      ]
     },
     "execution_count": 35,
     "metadata": {},
     "output_type": "execute_result"
    }
   ],
   "source": [
    "fig, axes = plt.subplots(nrows=2, ncols=1, sharex=True)\n",
    "axes[0].plot(data_df.time, gcamp_lps)\n",
    "axes[1].plot(data_df.time, auto_lps, c='orange')"
   ]
  },
  {
   "cell_type": "markdown",
   "id": "33482d8e",
   "metadata": {},
   "source": [
    "# Remove movement artifacts\n",
    "\n",
    "Let's take the derivative of the traces and see what's going on with the jumps."
   ]
  },
  {
   "cell_type": "code",
   "execution_count": 18,
   "id": "d3c3c00d",
   "metadata": {},
   "outputs": [
    {
     "data": {
      "text/plain": [
       "[<matplotlib.lines.Line2D at 0x27ce0373d08>]"
      ]
     },
     "execution_count": 18,
     "metadata": {},
     "output_type": "execute_result"
    }
   ],
   "source": [
    "d_gcamp = np.r_[0, np.abs(np.diff(gcamp))]\n",
    "d_auto = np.r_[0, np.abs(np.diff(auto))]"
   ]
  },
  {
   "cell_type": "code",
   "execution_count": 21,
   "id": "02afc96d",
   "metadata": {},
   "outputs": [],
   "source": [
    "mean_d_gcamp = np.mean(d_gcamp)\n",
    "mean_d_auto = np.mean(d_auto)\n",
    "std_d_gcamp = np.std(d_gcamp)\n",
    "std_d_auto = np.std(d_auto)"
   ]
  },
  {
   "cell_type": "code",
   "execution_count": 25,
   "id": "270b1e0d",
   "metadata": {},
   "outputs": [
    {
     "data": {
      "text/plain": [
       "<matplotlib.lines.Line2D at 0x27cde39d708>"
      ]
     },
     "execution_count": 25,
     "metadata": {},
     "output_type": "execute_result"
    }
   ],
   "source": [
    "fig, axes = plt.subplots(nrows=2, ncols=2, sharex=True)\n",
    "axes[0][0].plot(data_df.time, gcamp)\n",
    "axes[1][0].axhline(mean_d_gcamp)\n",
    "axes[1][0].axhline(2*std_d_gcamp, color='r')\n",
    "axes[1][0].plot(data_df.time, d_gcamp)\n",
    "axes[0][1].plot(data_df.time, auto, c='orange')\n",
    "axes[1][1].plot(data_df.time, d_auto, c='orange')\n",
    "axes[1][1].axhline(mean_d_auto)\n",
    "axes[1][1].axhline(2*std_d_auto, color='r')"
   ]
  }
 ],
 "metadata": {
  "kernelspec": {
   "display_name": "Python 3",
   "language": "python",
   "name": "python3"
  },
  "language_info": {
   "codemirror_mode": {
    "name": "ipython",
    "version": 3
   },
   "file_extension": ".py",
   "mimetype": "text/x-python",
   "name": "python",
   "nbconvert_exporter": "python",
   "pygments_lexer": "ipython3",
   "version": "3.7.10"
  },
  "varInspector": {
   "cols": {
    "lenName": 16,
    "lenType": 16,
    "lenVar": 40
   },
   "kernels_config": {
    "python": {
     "delete_cmd_postfix": "",
     "delete_cmd_prefix": "del ",
     "library": "var_list.py",
     "varRefreshCmd": "print(var_dic_list())"
    },
    "r": {
     "delete_cmd_postfix": ") ",
     "delete_cmd_prefix": "rm(",
     "library": "var_list.r",
     "varRefreshCmd": "cat(var_dic_list()) "
    }
   },
   "types_to_exclude": [
    "module",
    "function",
    "builtin_function_or_method",
    "instance",
    "_Feature"
   ],
   "window_display": false
  }
 },
 "nbformat": 4,
 "nbformat_minor": 5
}
