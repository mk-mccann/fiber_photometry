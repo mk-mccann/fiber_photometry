{
 "cells": [
  {
   "cell_type": "code",
   "execution_count": 5,
   "id": "b2f1ed86",
   "metadata": {},
   "outputs": [
    {
     "name": "stdout",
     "output_type": "stream",
     "text": [
      "Warning: Cannot change to a different GUI toolkit: widget. Using qt instead.\n"
     ]
    }
   ],
   "source": [
    "%matplotlib\n",
    "import matplotlib.pyplot as plt\n",
    "plt.ion()\n",
    "from os.path import join\n",
    "from scipy.signal import savgol_filter\n",
    "from tqdm import tqdm\n",
    "\n",
    "import paths\n",
    "import functions_preprocessing as fpp\n",
    "import functions_io as f_io\n",
    "from functions_utils import find_zone_and_behavior_episodes, add_episode_data\n",
    "from functions_plotting import plot_fluorescence_min_sec"
   ]
  },
  {
   "cell_type": "code",
   "execution_count": 2,
   "id": "d2e547e4",
   "metadata": {},
   "outputs": [],
   "source": [
    "mouse = 1\n",
    "day = 3\n",
    "\n",
    "# Check that the figure directory exists\n",
    "f_io.check_dir_exists(paths.figure_directory)\n",
    "\n",
    "# Load the preprocesed data\n",
    "data_df = f_io.load_preprocessed_data(mouse, day)"
   ]
  },
  {
   "cell_type": "code",
   "execution_count": 3,
   "id": "2f693815",
   "metadata": {},
   "outputs": [
    {
     "data": {
      "text/html": [
       "<div>\n",
       "<style scoped>\n",
       "    .dataframe tbody tr th:only-of-type {\n",
       "        vertical-align: middle;\n",
       "    }\n",
       "\n",
       "    .dataframe tbody tr th {\n",
       "        vertical-align: top;\n",
       "    }\n",
       "\n",
       "    .dataframe thead th {\n",
       "        text-align: right;\n",
       "    }\n",
       "</style>\n",
       "<table border=\"1\" class=\"dataframe\">\n",
       "  <thead>\n",
       "    <tr style=\"text-align: right;\">\n",
       "      <th></th>\n",
       "      <th>time</th>\n",
       "      <th>gcamp</th>\n",
       "      <th>auto</th>\n",
       "      <th>animal</th>\n",
       "      <th>day</th>\n",
       "      <th>dff</th>\n",
       "      <th>zscore</th>\n",
       "      <th>behavior</th>\n",
       "      <th>zone</th>\n",
       "      <th>Ear Scratch</th>\n",
       "      <th>...</th>\n",
       "      <th>Idle</th>\n",
       "      <th>Shock</th>\n",
       "      <th>Social Interaction</th>\n",
       "      <th>Squeezed MZ Edge</th>\n",
       "      <th>Switch</th>\n",
       "      <th>Transfer</th>\n",
       "      <th>WSW</th>\n",
       "      <th>Eating Zone</th>\n",
       "      <th>Marble Zone</th>\n",
       "      <th>Nesting Zone</th>\n",
       "    </tr>\n",
       "  </thead>\n",
       "  <tbody>\n",
       "    <tr>\n",
       "      <th>0</th>\n",
       "      <td>0.085969</td>\n",
       "      <td>0.647619</td>\n",
       "      <td>2.995199</td>\n",
       "      <td>1</td>\n",
       "      <td>3</td>\n",
       "      <td>-78.378112</td>\n",
       "      <td>-2.513977</td>\n",
       "      <td></td>\n",
       "      <td></td>\n",
       "      <td></td>\n",
       "      <td>...</td>\n",
       "      <td></td>\n",
       "      <td></td>\n",
       "      <td></td>\n",
       "      <td></td>\n",
       "      <td></td>\n",
       "      <td></td>\n",
       "      <td></td>\n",
       "      <td></td>\n",
       "      <td></td>\n",
       "      <td></td>\n",
       "    </tr>\n",
       "    <tr>\n",
       "      <th>1</th>\n",
       "      <td>0.110578</td>\n",
       "      <td>0.646681</td>\n",
       "      <td>2.984903</td>\n",
       "      <td>1</td>\n",
       "      <td>3</td>\n",
       "      <td>-78.334937</td>\n",
       "      <td>-2.436197</td>\n",
       "      <td></td>\n",
       "      <td></td>\n",
       "      <td></td>\n",
       "      <td>...</td>\n",
       "      <td></td>\n",
       "      <td></td>\n",
       "      <td></td>\n",
       "      <td></td>\n",
       "      <td></td>\n",
       "      <td></td>\n",
       "      <td></td>\n",
       "      <td></td>\n",
       "      <td></td>\n",
       "      <td></td>\n",
       "    </tr>\n",
       "    <tr>\n",
       "      <th>2</th>\n",
       "      <td>0.135187</td>\n",
       "      <td>0.645720</td>\n",
       "      <td>2.975260</td>\n",
       "      <td>1</td>\n",
       "      <td>3</td>\n",
       "      <td>-78.297016</td>\n",
       "      <td>-2.367884</td>\n",
       "      <td></td>\n",
       "      <td></td>\n",
       "      <td></td>\n",
       "      <td>...</td>\n",
       "      <td></td>\n",
       "      <td></td>\n",
       "      <td></td>\n",
       "      <td></td>\n",
       "      <td></td>\n",
       "      <td></td>\n",
       "      <td></td>\n",
       "      <td></td>\n",
       "      <td></td>\n",
       "      <td></td>\n",
       "    </tr>\n",
       "    <tr>\n",
       "      <th>3</th>\n",
       "      <td>0.159797</td>\n",
       "      <td>0.644736</td>\n",
       "      <td>2.966269</td>\n",
       "      <td>1</td>\n",
       "      <td>3</td>\n",
       "      <td>-78.264427</td>\n",
       "      <td>-2.309175</td>\n",
       "      <td></td>\n",
       "      <td></td>\n",
       "      <td></td>\n",
       "      <td>...</td>\n",
       "      <td></td>\n",
       "      <td></td>\n",
       "      <td></td>\n",
       "      <td></td>\n",
       "      <td></td>\n",
       "      <td></td>\n",
       "      <td></td>\n",
       "      <td></td>\n",
       "      <td></td>\n",
       "      <td></td>\n",
       "    </tr>\n",
       "    <tr>\n",
       "      <th>4</th>\n",
       "      <td>0.184406</td>\n",
       "      <td>0.643727</td>\n",
       "      <td>2.957930</td>\n",
       "      <td>1</td>\n",
       "      <td>3</td>\n",
       "      <td>-78.237239</td>\n",
       "      <td>-2.260196</td>\n",
       "      <td></td>\n",
       "      <td></td>\n",
       "      <td></td>\n",
       "      <td>...</td>\n",
       "      <td></td>\n",
       "      <td></td>\n",
       "      <td></td>\n",
       "      <td></td>\n",
       "      <td></td>\n",
       "      <td></td>\n",
       "      <td></td>\n",
       "      <td></td>\n",
       "      <td></td>\n",
       "      <td></td>\n",
       "    </tr>\n",
       "  </tbody>\n",
       "</table>\n",
       "<p>5 rows × 22 columns</p>\n",
       "</div>"
      ],
      "text/plain": [
       "       time     gcamp      auto animal day        dff    zscore behavior zone  \\\n",
       "0  0.085969  0.647619  2.995199      1   3 -78.378112 -2.513977                 \n",
       "1  0.110578  0.646681  2.984903      1   3 -78.334937 -2.436197                 \n",
       "2  0.135187  0.645720  2.975260      1   3 -78.297016 -2.367884                 \n",
       "3  0.159797  0.644736  2.966269      1   3 -78.264427 -2.309175                 \n",
       "4  0.184406  0.643727  2.957930      1   3 -78.237239 -2.260196                 \n",
       "\n",
       "  Ear Scratch  ... Idle Shock Social Interaction Squeezed MZ Edge Switch  \\\n",
       "0              ...                                                         \n",
       "1              ...                                                         \n",
       "2              ...                                                         \n",
       "3              ...                                                         \n",
       "4              ...                                                         \n",
       "\n",
       "  Transfer WSW Eating Zone Marble Zone Nesting Zone  \n",
       "0                                                    \n",
       "1                                                    \n",
       "2                                                    \n",
       "3                                                    \n",
       "4                                                    \n",
       "\n",
       "[5 rows x 22 columns]"
      ]
     },
     "execution_count": 3,
     "metadata": {},
     "output_type": "execute_result"
    }
   ],
   "source": [
    "data_df.head()"
   ]
  },
  {
   "cell_type": "code",
   "execution_count": 6,
   "id": "099baa8b",
   "metadata": {},
   "outputs": [
    {
     "data": {
      "text/plain": [
       "[<matplotlib.lines.Line2D at 0x258e7deac48>]"
      ]
     },
     "execution_count": 6,
     "metadata": {},
     "output_type": "execute_result"
    }
   ],
   "source": [
    "plt.plot(data_df.time, data_df.gcamp)"
   ]
  },
  {
   "cell_type": "code",
   "execution_count": 29,
   "id": "1148cdf1",
   "metadata": {},
   "outputs": [],
   "source": [
    "# Get derivative of the data\n",
    "gcamp = data_df.gcamp.to_numpy()\n",
    "gcamp = fpp.remove_nans(gcamp)\n",
    "d1 = np.r_[0, np.abs(gcamp[1:] - gcamp[:-1])]\n",
    "\n",
    "# Places where the derivative is 0 are questionable and should be interpolated\n",
    "from scipy.interpolate import interp1d\n",
    "d_zero = np.where(d1 == 0)[0]\n",
    "interp = np.interp(d_zero, np.arange(0,len(gcamp)), gcamp)\n",
    "gcamp_inter = gcamp.copy()\n",
    "gcamp_inter[d_zero] = interp"
   ]
  },
  {
   "cell_type": "code",
   "execution_count": 30,
   "id": "43c9a0f1",
   "metadata": {},
   "outputs": [
    {
     "data": {
      "text/plain": [
       "[<matplotlib.lines.Line2D at 0x258eaf2a7c8>]"
      ]
     },
     "execution_count": 30,
     "metadata": {},
     "output_type": "execute_result"
    }
   ],
   "source": [
    "fig, (ax1, ax2) = plt.subplots(2, 1, sharex=True)\n",
    "ax1.plot(data_df.gcamp)\n",
    "ax2.plot(gcamp_inter)"
   ]
  },
  {
   "cell_type": "code",
   "execution_count": null,
   "id": "c7d16cf9",
   "metadata": {},
   "outputs": [],
   "source": []
  }
 ],
 "metadata": {
  "kernelspec": {
   "display_name": "Python 3",
   "language": "python",
   "name": "python3"
  },
  "language_info": {
   "codemirror_mode": {
    "name": "ipython",
    "version": 3
   },
   "file_extension": ".py",
   "mimetype": "text/x-python",
   "name": "python",
   "nbconvert_exporter": "python",
   "pygments_lexer": "ipython3",
   "version": "3.7.10"
  },
  "varInspector": {
   "cols": {
    "lenName": 16,
    "lenType": 16,
    "lenVar": 40
   },
   "kernels_config": {
    "python": {
     "delete_cmd_postfix": "",
     "delete_cmd_prefix": "del ",
     "library": "var_list.py",
     "varRefreshCmd": "print(var_dic_list())"
    },
    "r": {
     "delete_cmd_postfix": ") ",
     "delete_cmd_prefix": "rm(",
     "library": "var_list.r",
     "varRefreshCmd": "cat(var_dic_list()) "
    }
   },
   "types_to_exclude": [
    "module",
    "function",
    "builtin_function_or_method",
    "instance",
    "_Feature"
   ],
   "window_display": false
  }
 },
 "nbformat": 4,
 "nbformat_minor": 5
}
